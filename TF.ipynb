{
 "cells": [
  {
   "cell_type": "code",
   "execution_count": 6,
   "metadata": {},
   "outputs": [],
   "source": [
    "class Member(object):\n",
    "    count = 0\n",
    "    def __init__(self, id, name):\n",
    "        Member.count += 1\n",
    "        self.id = id\n",
    "        self.name = name\n",
    "    \n",
    "    def get_id(self):\n",
    "        return self.id\n",
    "    \n",
    "    def get_name(self):\n",
    "        return self.name"
   ]
  },
  {
   "cell_type": "code",
   "execution_count": 7,
   "metadata": {},
   "outputs": [],
   "source": [
    "class Author(Member):\n",
    "    def __init__(self, id, name, org):\n",
    "        super().__init__(id, name)\n",
    "        self.org = org"
   ]
  },
  {
   "cell_type": "code",
   "execution_count": 8,
   "metadata": {},
   "outputs": [],
   "source": [
    "class Team(object):\n",
    "    count = 0\n",
    "    def __init__(self, id, members):\n",
    "        Team.count += 1\n",
    "        self.id = id\n",
    "        self.members = members\n",
    "        self.team_id = self.set_team_id()\n",
    "        \n",
    "    # Set a unique id for each team by adding ids of each team member    \n",
    "    def set_team_id(self):\n",
    "        sum_of_ids = 0\n",
    "        for mem in self.members:\n",
    "            sum_of_ids += mem.get_id()\n",
    "        return sum_of_ids\n",
    "    \n",
    "    # Return a list of members' names    \n",
    "    def get_members_names(self):\n",
    "        members_names = []\n",
    "        for member in self.members:\n",
    "            members_names.append(member.get_name())\n",
    "        return members_names\n",
    "    \n",
    "    # Return a list of members' ids\n",
    "    def get_members_ids(self):\n",
    "        members_ids = []\n",
    "        for member in self.members:\n",
    "            members_ids.append(member.get_id())\n",
    "        return members_ids"
   ]
  },
  {
   "cell_type": "code",
   "execution_count": 9,
   "metadata": {},
   "outputs": [],
   "source": [
    "class Document(Team):\n",
    "    def __init__(self, id, authors, title, doc_type, year, venue, references, fos, keywords):\n",
    "        super().__init__(id, authors)\n",
    "        self.title = title\n",
    "        self.year = year\n",
    "        self.doc_type = doc_type\n",
    "        self.venue = venue\n",
    "        self.references = references\n",
    "        self.fos = fos\n",
    "        self.keywords = keywords\n",
    "        self.fields = self.set_fields()\n",
    "        \n",
    "    # Fill the fields attribute with non-zero weight from FOS\n",
    "    def set_fields(self):\n",
    "        fields = []\n",
    "        for field in self.fos:\n",
    "            if field[\"w\"] != 0.0:\n",
    "                fields.append(field[\"name\"])\n",
    "        # Extend the fields with keywords\n",
    "        if len(self.keywords) != 0:\n",
    "            fields.extend(self.keywords)\n",
    "        return fields\n",
    "    \n",
    "    def get_fields(self):\n",
    "        return self.fields\n",
    "    "
   ]
  },
  {
   "cell_type": "code",
   "execution_count": null,
   "metadata": {},
   "outputs": [],
   "source": []
  },
  {
   "cell_type": "code",
   "execution_count": 25,
   "metadata": {},
   "outputs": [],
   "source": [
    "import json\n",
    "\n",
    "counter = 0\n",
    "docs = []\n",
    "all_authors = {}  \n",
    "\n",
    "training_input = []\n",
    "training_output = []\n",
    "\n",
    "\n",
    "with open(\"dblp.v12.json\", \"r\") as jf:\n",
    "    # Skip the first line\n",
    "    jf.readline() \n",
    "    while counter < 50:\n",
    "        # Read line by line to not overload the memory\n",
    "        line = jf.readline().lower().lstrip(\",\")\n",
    "        jsonline = json.loads(line)\n",
    "\n",
    "        # Retrieve the desired attributes\n",
    "        doc_id = jsonline['id']\n",
    "        doc_title = jsonline['title']\n",
    "        doc_year = jsonline['year']\n",
    "        doc_type = jsonline['doc_type']\n",
    "        doc_venue = jsonline['venue']\n",
    "        \n",
    "        if 'references' in jsonline.keys():\n",
    "            doc_references = jsonline['references']\n",
    "        else:\n",
    "            doc_references = []\n",
    "            \n",
    "        doc_fos = jsonline['fos']\n",
    "        \n",
    "        if 'keywords' not in jsonline.keys():\n",
    "            doc_keywords = []\n",
    "        else:\n",
    "            doc_keywords = jsonline['keywords']\n",
    "            \n",
    "        authors = []\n",
    "        for auth in jsonline['authors']:\n",
    "            \n",
    "            # Retrieve the desired attributes\n",
    "            auth_id = auth['id']\n",
    "            auth_name = auth['name']\n",
    "            \n",
    "            if 'org' in auth.keys():\n",
    "                auth_org = auth['org']\n",
    "            else:\n",
    "                auth_org = \"\"\n",
    "            \n",
    "            author = Author(auth_id, auth_name, auth_org)\n",
    "            authors.append(author)\n",
    "            \n",
    "            \n",
    "            if auth_id not in all_authors.keys():\n",
    "                all_authors[auth_id] = author\n",
    "            \n",
    "        doc = Document(doc_id, authors, doc_title, doc_year,doc_type, doc_venue, doc_references, doc_fos, doc_keywords)\n",
    "        docs.append(doc)\n",
    "        \n",
    "        training_input.append(\", \".join(doc.get_fields()))\n",
    "#         training_input.append(doc.get_fields())\n",
    "\n",
    "        training_output.append(\", \".join(doc.get_members_names()))\n",
    "#         training_output.append(doc.get_members_names())\n",
    "\n",
    "        counter += 1\n",
    "    \n"
   ]
  },
  {
   "cell_type": "code",
   "execution_count": 26,
   "metadata": {},
   "outputs": [
    {
     "data": {
      "text/plain": [
       "['telecommunications network, computer science, mind map, human–computer interaction, multimedia, empirical research, comprehension, communications protocol',\n",
       " 'discrete mathematics, combinatorics, direct product, mathematics',\n",
       " 'statue, engineering drawing, computer science, visualization, polychrome, artificial intelligence',\n",
       " 'autoregressive–moving-average model, computer science, support vector machine, autoregressive conditional heteroskedasticity, artificial neural network, machine learning',\n",
       " 'computer vision, polygon mesh, computer graphics (images), computer science, quadric',\n",
       " 'pattern recognition, computer science, correlation attack',\n",
       " \"peak signal-to-noise ratio, authentication, secret sharing, computer science, computer network, image sharing, theoretical computer science, verifiable secret sharing, steganography, pattern recognition, shamir's secret sharing, homomorphic secret sharing\",\n",
       " 'computer science, parallel computing',\n",
       " 'ubiquitous commerce, services computing, data mining, computational intelligence, computer science, context awareness, context-aware pervasive systems, utility computing, ubiquitous computing',\n",
       " 'computer graphics (images), computer science, visualization, real-time rendering, scheduling (production processes), rendering (computer graphics)']"
      ]
     },
     "execution_count": 26,
     "metadata": {},
     "output_type": "execute_result"
    }
   ],
   "source": [
    "training_input[:10]"
   ]
  },
  {
   "cell_type": "code",
   "execution_count": 27,
   "metadata": {},
   "outputs": [
    {
     "data": {
      "text/plain": [
       "['makoto satoh, ryo muramatsu, mizue kayama, kazunori itoh, masami hashimoto, makoto otani, michio shimizu, masahiko sugimoto',\n",
       " 'pranava k. jha',\n",
       " 'g. beale, g. earl',\n",
       " 'altaf hossain, faisal zaman, m. nasser, m. mufakhkharul islam',\n",
       " 'rafael álvarez, leandro tortosa, josé-francisco vicent, antonio zamora',\n",
       " 'jovan dj. golic, guglielmo morgari',\n",
       " 'güzin ulutas, mustafa ulutas, vasif v. nabiyev',\n",
       " 'pranay chaudhuri, hussein thompson',\n",
       " 'phan cong vinh',\n",
       " 'dominik szajerman, adam jurczyński']"
      ]
     },
     "execution_count": 27,
     "metadata": {},
     "output_type": "execute_result"
    }
   ],
   "source": [
    "training_output[:10]"
   ]
  },
  {
   "cell_type": "code",
   "execution_count": null,
   "metadata": {},
   "outputs": [],
   "source": []
  },
  {
   "cell_type": "code",
   "execution_count": null,
   "metadata": {},
   "outputs": [],
   "source": []
  }
 ],
 "metadata": {
  "kernelspec": {
   "display_name": "Python 3.7.1 64-bit ('ai': conda)",
   "language": "python",
   "name": "python37164bitaicondaf476b234a84741d381bd7a8ee690b6d7"
  },
  "language_info": {
   "codemirror_mode": {
    "name": "ipython",
    "version": 3
   },
   "file_extension": ".py",
   "mimetype": "text/x-python",
   "name": "python",
   "nbconvert_exporter": "python",
   "pygments_lexer": "ipython3",
   "version": "3.7.1"
  }
 },
 "nbformat": 4,
 "nbformat_minor": 2
}
